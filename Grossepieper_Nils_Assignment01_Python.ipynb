{
 "cells": [
  {
   "cell_type": "markdown",
   "id": "59746078",
   "metadata": {},
   "source": [
    "# Assignment I: Importing, cleaning and merging"
   ]
  },
  {
   "cell_type": "markdown",
   "id": "ed52a330",
   "metadata": {},
   "source": [
    "---\n",
    "\n",
    "### 0. Preparations:\n",
    "\n",
    "In the first step I have to load all the important packages for this assignment.\n",
    "All necessary packages have already been downloaded on my PC.\\\n",
    "In the next step I set up the working directory.\\\n",
    "In the third step I import the data files and name them according to the set up \n",
    "descriptions.\\"
   ]
  },
  {
   "cell_type": "code",
   "execution_count": null,
   "id": "12bc9097",
   "metadata": {},
   "outputs": [],
   "source": []
  }
 ],
 "metadata": {
  "kernelspec": {
   "display_name": "Python 3 (ipykernel)",
   "language": "python",
   "name": "python3"
  },
  "language_info": {
   "codemirror_mode": {
    "name": "ipython",
    "version": 3
   },
   "file_extension": ".py",
   "mimetype": "text/x-python",
   "name": "python",
   "nbconvert_exporter": "python",
   "pygments_lexer": "ipython3",
   "version": "3.9.13"
  }
 },
 "nbformat": 4,
 "nbformat_minor": 5
}
